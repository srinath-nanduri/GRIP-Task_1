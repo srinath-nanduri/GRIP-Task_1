{
 "cells": [
  {
   "cell_type": "markdown",
   "id": "45daea36",
   "metadata": {},
   "source": [
    "# Data Science & Business Analytics Task-1\n",
    "\n",
    "### Topic: Prediction Using Supervised ML\n",
    "\n",
    "### Author: Srinath Nanduri\n",
    "\n",
    "### Task-1: Predict the percentage of an student based on the no. of study hours"
   ]
  },
  {
   "cell_type": "code",
   "execution_count": 20,
   "id": "f0d6dc43",
   "metadata": {},
   "outputs": [],
   "source": [
    "import numpy as np\n",
    "import pandas as pd\n",
    "\n",
    "import matplotlib as mpl\n",
    "import matplotlib.pyplot as plt\n",
    "\n",
    "\n",
    "\n",
    "from sklearn.metrics import mean_squared_error\n",
    "from sklearn.model_selection import train_test_split\n",
    "from sklearn.preprocessing import MinMaxScaler"
   ]
  },
  {
   "cell_type": "code",
   "execution_count": 2,
   "id": "2fcf14bc",
   "metadata": {},
   "outputs": [],
   "source": [
    "df = pd.read_csv(\"scores.csv\")"
   ]
  },
  {
   "cell_type": "code",
   "execution_count": 3,
   "id": "cc7188c9",
   "metadata": {},
   "outputs": [
    {
     "data": {
      "text/html": [
       "<div>\n",
       "<style scoped>\n",
       "    .dataframe tbody tr th:only-of-type {\n",
       "        vertical-align: middle;\n",
       "    }\n",
       "\n",
       "    .dataframe tbody tr th {\n",
       "        vertical-align: top;\n",
       "    }\n",
       "\n",
       "    .dataframe thead th {\n",
       "        text-align: right;\n",
       "    }\n",
       "</style>\n",
       "<table border=\"1\" class=\"dataframe\">\n",
       "  <thead>\n",
       "    <tr style=\"text-align: right;\">\n",
       "      <th></th>\n",
       "      <th>Hours</th>\n",
       "      <th>Scores</th>\n",
       "    </tr>\n",
       "  </thead>\n",
       "  <tbody>\n",
       "    <tr>\n",
       "      <th>0</th>\n",
       "      <td>2.5</td>\n",
       "      <td>21</td>\n",
       "    </tr>\n",
       "    <tr>\n",
       "      <th>1</th>\n",
       "      <td>5.1</td>\n",
       "      <td>47</td>\n",
       "    </tr>\n",
       "    <tr>\n",
       "      <th>2</th>\n",
       "      <td>3.2</td>\n",
       "      <td>27</td>\n",
       "    </tr>\n",
       "    <tr>\n",
       "      <th>3</th>\n",
       "      <td>8.5</td>\n",
       "      <td>75</td>\n",
       "    </tr>\n",
       "    <tr>\n",
       "      <th>4</th>\n",
       "      <td>3.5</td>\n",
       "      <td>30</td>\n",
       "    </tr>\n",
       "  </tbody>\n",
       "</table>\n",
       "</div>"
      ],
      "text/plain": [
       "   Hours  Scores\n",
       "0    2.5      21\n",
       "1    5.1      47\n",
       "2    3.2      27\n",
       "3    8.5      75\n",
       "4    3.5      30"
      ]
     },
     "execution_count": 3,
     "metadata": {},
     "output_type": "execute_result"
    }
   ],
   "source": [
    "df.head()"
   ]
  },
  {
   "cell_type": "code",
   "execution_count": 4,
   "id": "b1f523d5",
   "metadata": {},
   "outputs": [],
   "source": [
    "X = df['Hours'].values\n",
    "Y= df['Scores'].values\n"
   ]
  },
  {
   "cell_type": "code",
   "execution_count": 5,
   "id": "36ee285c",
   "metadata": {},
   "outputs": [],
   "source": [
    "x_scaler = MinMaxScaler()\n",
    "X = x_scaler.fit_transform(X.reshape(-1,1))\n",
    "X = X[:, -1]\n",
    "\n",
    "y_scaler = MinMaxScaler()\n",
    "Y = y_scaler.fit_transform(Y.reshape(-1,1))\n",
    "Y = Y[:, -1]"
   ]
  },
  {
   "cell_type": "code",
   "execution_count": 6,
   "id": "6f4da4f7",
   "metadata": {},
   "outputs": [],
   "source": [
    "def error(m, x, c, t):\n",
    "    N = x.size\n",
    "    e = sum(((m * x + c) -t) **2)\n",
    "    return e + 1/(2 * N)\n",
    "    "
   ]
  },
  {
   "cell_type": "code",
   "execution_count": 7,
   "id": "7d74b628",
   "metadata": {},
   "outputs": [],
   "source": [
    "xtrain, xtest, ytrain, ytest = train_test_split(X, Y, test_size=0.3)"
   ]
  },
  {
   "cell_type": "code",
   "execution_count": 8,
   "id": "cfc5f719",
   "metadata": {},
   "outputs": [],
   "source": [
    "def update(m,x,c,t, learning_rate):\n",
    "    grad_m = sum(2 * ((m * x + c) - t) * x)\n",
    "    grad_c = sum(2 * ((m * x + c) - t))\n",
    "    m = m - grad_m * learning_rate\n",
    "    c = c - grad_c * learning_rate\n",
    "    return m,c"
   ]
  },
  {
   "cell_type": "code",
   "execution_count": 9,
   "id": "0776e543",
   "metadata": {},
   "outputs": [],
   "source": [
    "def gradient_descent(init_m, init_c, x, t, learning_rate, iterations, error_threshold):\n",
    "    m = init_m\n",
    "    c = init_c\n",
    "    error_values = list()\n",
    "    mc_values = list()\n",
    "    for i in range(iterations):\n",
    "        e = error(m, x, c, t)\n",
    "        if e < error_threshold:\n",
    "            print('Error less than error threshold, stopping gradient descent')\n",
    "            break\n",
    "        error_values.append(e)\n",
    "        m, c = update(m, x, c, t, learning_rate)\n",
    "        mc_values.append((m, c))\n",
    "    return m, c, error_values, mc_values\n",
    "    "
   ]
  },
  {
   "cell_type": "code",
   "execution_count": 10,
   "id": "d3875e73",
   "metadata": {},
   "outputs": [],
   "source": [
    "init_m = 0.9\n",
    "init_c = 0\n",
    "learning_rate = 0.001\n",
    "iterations = 1500\n",
    "error_threshold = 0.001\n",
    "\n",
    "\n",
    "m, c, error_values, mc_values = gradient_descent(init_m, init_c, xtrain, ytrain, learning_rate, iterations, error_threshold)\n"
   ]
  },
  {
   "cell_type": "code",
   "execution_count": 11,
   "id": "c1bb993d",
   "metadata": {},
   "outputs": [
    {
     "data": {
      "text/plain": [
       "[<matplotlib.lines.Line2D at 0x241158e21d0>]"
      ]
     },
     "execution_count": 11,
     "metadata": {},
     "output_type": "execute_result"
    },
    {
     "data": {
      "image/png": "[encoded data removed]",
      "text/plain": [
       "<Figure size 432x288 with 1 Axes>"
      ]
     },
     "metadata": {
      "needs_background": "light"
     },
     "output_type": "display_data"
    }
   ],
   "source": [
    "plt.scatter(xtrain, ytrain, color = 'b')\n",
    "plt.plot(xtrain, (m * xtrain + c), color = 'r')"
   ]
  },
  {
   "cell_type": "code",
   "execution_count": 12,
   "id": "0a459bd8",
   "metadata": {},
   "outputs": [
    {
     "data": {
      "text/plain": [
       "Text(0.5, 0, 'Iterations')"
      ]
     },
     "execution_count": 12,
     "metadata": {},
     "output_type": "execute_result"
    },
    {
     "data": {
      "image/png": "[encoded data removed]",
      "text/plain": [
       "<Figure size 432x288 with 1 Axes>"
      ]
     },
     "metadata": {
      "needs_background": "light"
     },
     "output_type": "display_data"
    }
   ],
   "source": [
    "plt.plot(np.arange(len(error_values)), error_values)\n",
    "plt.ylabel('Error')\n",
    "plt.xlabel('Iterations')"
   ]
  },
  {
   "cell_type": "code",
   "execution_count": 13,
   "id": "eae4fd98",
   "metadata": {},
   "outputs": [
    {
     "data": {
      "text/plain": [
       "0.005772366791101973"
      ]
     },
     "execution_count": 13,
     "metadata": {},
     "output_type": "execute_result"
    }
   ],
   "source": [
    "predicted = (m*xtest)+c\n",
    "mean_squared_error(ytest,predicted)"
   ]
  },
  {
   "cell_type": "code",
   "execution_count": 14,
   "id": "f35a25bb",
   "metadata": {},
   "outputs": [
    {
     "data": {
      "text/plain": [
       "<matplotlib.collections.PathCollection at 0x24115a93358>"
      ]
     },
     "execution_count": 14,
     "metadata": {},
     "output_type": "execute_result"
    },
    {
     "data": {
      "image/png": "[encoded data removed]",
      "text/plain": [
       "<Figure size 432x288 with 1 Axes>"
      ]
     },
     "metadata": {
      "needs_background": "light"
     },
     "output_type": "display_data"
    }
   ],
   "source": [
    "plt.scatter(xtest,ytest,color='b')\n",
    "plt.scatter(xtest,predicted,color='r')"
   ]
  },
  {
   "cell_type": "code",
   "execution_count": 15,
   "id": "71b41b28",
   "metadata": {},
   "outputs": [
    {
     "data": {
      "text/html": [
       "<div>\n",
       "<style scoped>\n",
       "    .dataframe tbody tr th:only-of-type {\n",
       "        vertical-align: middle;\n",
       "    }\n",
       "\n",
       "    .dataframe tbody tr th {\n",
       "        vertical-align: top;\n",
       "    }\n",
       "\n",
       "    .dataframe thead th {\n",
       "        text-align: right;\n",
       "    }\n",
       "</style>\n",
       "<table border=\"1\" class=\"dataframe\">\n",
       "  <thead>\n",
       "    <tr style=\"text-align: right;\">\n",
       "      <th></th>\n",
       "      <th>x</th>\n",
       "      <th>target_y</th>\n",
       "      <th>predicted_y</th>\n",
       "    </tr>\n",
       "  </thead>\n",
       "  <tbody>\n",
       "    <tr>\n",
       "      <th>0</th>\n",
       "      <td>8.9</td>\n",
       "      <td>95.0</td>\n",
       "      <td>89.83</td>\n",
       "    </tr>\n",
       "    <tr>\n",
       "      <th>1</th>\n",
       "      <td>6.1</td>\n",
       "      <td>67.0</td>\n",
       "      <td>62.63</td>\n",
       "    </tr>\n",
       "    <tr>\n",
       "      <th>2</th>\n",
       "      <td>5.9</td>\n",
       "      <td>62.0</td>\n",
       "      <td>60.69</td>\n",
       "    </tr>\n",
       "    <tr>\n",
       "      <th>3</th>\n",
       "      <td>8.5</td>\n",
       "      <td>75.0</td>\n",
       "      <td>85.94</td>\n",
       "    </tr>\n",
       "    <tr>\n",
       "      <th>4</th>\n",
       "      <td>1.1</td>\n",
       "      <td>17.0</td>\n",
       "      <td>14.07</td>\n",
       "    </tr>\n",
       "  </tbody>\n",
       "</table>\n",
       "</div>"
      ],
      "text/plain": [
       "     x  target_y  predicted_y\n",
       "0  8.9      95.0        89.83\n",
       "1  6.1      67.0        62.63\n",
       "2  5.9      62.0        60.69\n",
       "3  8.5      75.0        85.94\n",
       "4  1.1      17.0        14.07"
      ]
     },
     "execution_count": 15,
     "metadata": {},
     "output_type": "execute_result"
    }
   ],
   "source": [
    "predicted = predicted.reshape(-1,1)\n",
    "xtest = xtest.reshape(-1,1)\n",
    "ytest = ytest.reshape(-1,1)\n",
    "\n",
    "xtest_scaled = x_scaler.inverse_transform(xtest)\n",
    "ytest_scaled = y_scaler.inverse_transform(ytest)\n",
    "predicted_scaled = y_scaler.inverse_transform(predicted)\n",
    "\n",
    "\n",
    "xtest_scaled = xtest_scaled[:, -1]\n",
    "ytest_scaled = ytest_scaled[:, -1]\n",
    "predicted_scaled = predicted_scaled[:, -1]\n",
    "\n",
    "\n",
    "p = pd.DataFrame(list(zip(xtest_scaled, ytest_scaled, predicted_scaled)), columns=['x','target_y','predicted_y'])\n",
    "p = p.round(decimals = 2)\n",
    "p.head()\n"
   ]
  },
  {
   "cell_type": "code",
   "execution_count": 16,
   "id": "89231ca6",
   "metadata": {},
   "outputs": [],
   "source": [
    "def pred(m, c, x):\n",
    "    return (m*x)+c"
   ]
  },
  {
   "cell_type": "code",
   "execution_count": 17,
   "id": "b789d94b",
   "metadata": {},
   "outputs": [],
   "source": [
    "m = np.array(m)     \n",
    "c = np.array(c)  "
   ]
  },
  {
   "cell_type": "code",
   "execution_count": 18,
   "id": "68f0f847",
   "metadata": {},
   "outputs": [],
   "source": [
    "M = x_scaler.inverse_transform(m.reshape(1, -1))\n",
    "C = x_scaler.inverse_transform(c.reshape(1, -1))"
   ]
  },
  {
   "cell_type": "code",
   "execution_count": 19,
   "id": "2b024700",
   "metadata": {},
   "outputs": [
    {
     "data": {
      "text/plain": [
       "array([[48.07175723]])"
      ]
     },
     "execution_count": 19,
     "metadata": {},
     "output_type": "execute_result"
    }
   ],
   "source": [
    "pred(M, C, 5.1)"
   ]
  },
  {
   "cell_type": "code",
   "execution_count": null,
   "id": "a0cd6e3c",
   "metadata": {},
   "outputs": [],
   "source": []
  }
 ],
 "metadata": {
  "kernelspec": {
   "display_name": "Python 3",
   "language": "python",
   "name": "python3"
  },
  "language_info": {
   "codemirror_mode": {
    "name": "ipython",
    "version": 3
   },
   "file_extension": ".py",
   "mimetype": "text/x-python",
   "name": "python",
   "nbconvert_exporter": "python",
   "pygments_lexer": "ipython3",
   "version": "3.6.13"
  }
 },
 "nbformat": 4,
 "nbformat_minor": 5
}
